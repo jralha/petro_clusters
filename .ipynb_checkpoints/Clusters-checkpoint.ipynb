{
 "cells": [
  {
   "cell_type": "markdown",
   "metadata": {},
   "source": [
    "Libraries"
   ]
  },
  {
   "cell_type": "code",
   "execution_count": 2,
   "metadata": {},
   "outputs": [],
   "source": [
    "import pandas as pd\n",
    "import matplotlib.pyplot as plt\n",
    "from mpl_toolkits import mplot3d\n",
    "import seaborn as sns\n",
    "import numpy as np\n",
    "import os\n",
    "from tqdm.auto import tqdm\n",
    "from sklearn.mixture import GaussianMixture\n",
    "from sklearn.metrics import davies_bouldin_score, silhouette_score\n",
    "from sklearn.cluster import KMeans\n",
    "from sklearn.preprocessing import StandardScaler\n",
    "np.set_printoptions(suppress=True)\n",
    "plt.style.use('ggplot')"
   ]
  },
  {
   "cell_type": "markdown",
   "metadata": {},
   "source": [
    "Functions"
   ]
  },
  {
   "cell_type": "code",
   "execution_count": 45,
   "metadata": {},
   "outputs": [],
   "source": [
    "#%%Functions\n",
    "def optimal_k(inputData):\n",
    "    scaler = StandardScaler()\n",
    "\n",
    "    data = scaler.fit_transform(inputData)\n",
    "\n",
    "    max_k=15\n",
    "    wcss=[]\n",
    "    dbs=[]\n",
    "    sil=[]\n",
    "    k_range = range(2,max_k)\n",
    "    for k in tqdm(k_range):\n",
    "        kmeans = KMeans(n_clusters=k)\n",
    "        temp_pred = kmeans.fit_predict(data)\n",
    "        wcss_k = kmeans.inertia_\n",
    "        wcss.append(wcss_k)\n",
    "        dbs.append(davies_bouldin_score(data,temp_pred))\n",
    "        sil.append(silhouette_score(data,temp_pred))\n",
    "\n",
    "    ## Plotting DBScores and Silhouette for optimal k\n",
    "\n",
    "    #plt.figure(figsize=[8,6])\n",
    "    #plt.subplot(2,1,1)\n",
    "    #plt.plot(k_range,sil)\n",
    "    #plt.ylabel(\"Silhueta\")\n",
    "    #plt.subplot(2,1,2)\n",
    "    #plt.plot(k_range,dbs)\n",
    "    #plt.ylabel(\"Davis-Bouldin\")\n",
    "    #plt.xlabel('Número Clusters')\n",
    "\n",
    "    # Making both measures into a single one towards finding optimal K\n",
    "    db_std  = scaler.fit_transform(np.array(dbs).reshape(-1, 1))\n",
    "    sil_std = scaler.fit_transform(np.array(sil).reshape(-1, 1))\n",
    "    combined = db_std-sil_std\n",
    "\n",
    "    #plt.figure(figsize=[8,3])\n",
    "    #plt.plot(k_range,combined)\n",
    "    #plt.ylabel(\"Silhueta - Davies-Bouldin (Escalado)\")\n",
    "    #plt.xlabel('Número Clusters')\n",
    "    \n",
    "    plt.figure(figsize=[8,3])\n",
    "    plt.plot(k_range,wcss)\n",
    "    plt.ylabel(\"WCSS\")\n",
    "    plt.xlabel('Número Clusters')\n",
    "\n",
    "    # Optimal K\n",
    "    opt_k = k_range[np.where(combined == np.min(combined))[0][0]]\n",
    "\n",
    "    return #opt_k"
   ]
  },
  {
   "cell_type": "markdown",
   "metadata": {},
   "source": [
    "Actual Code"
   ]
  },
  {
   "cell_type": "code",
   "execution_count": 24,
   "metadata": {},
   "outputs": [],
   "source": [
    "#Load data\n",
    "swc = pd.read_excel('Dados_amostralateral.xlsx').drop(['MD (m)'],axis=1)\n",
    "plug = pd.read_excel('Dados_plugue.xlsx').drop(['MD (m)'],axis=1)\n",
    "core = pd.read_excel('Dados_testemunho.xlsx').iloc[1:,:].drop(['Caixa','MD'],axis=1)"
   ]
  },
  {
   "cell_type": "code",
   "execution_count": 47,
   "metadata": {},
   "outputs": [
    {
     "data": {
      "application/vnd.jupyter.widget-view+json": {
       "model_id": "b02c5b18608444f39885d8ba4c68acb0",
       "version_major": 2,
       "version_minor": 0
      },
      "text/plain": [
       "HBox(children=(IntProgress(value=0, max=13), HTML(value='')))"
      ]
     },
     "metadata": {},
     "output_type": "display_data"
    },
    {
     "name": "stdout",
     "output_type": "stream",
     "text": [
      "\n"
     ]
    },
    {
     "data": {
      "image/png": "[encoded data removed]",
      "text/plain": [
       "<Figure size 576x216 with 1 Axes>"
      ]
     },
     "metadata": {},
     "output_type": "display_data"
    }
   ],
   "source": [
    "optimal_k(swc)"
   ]
  },
  {
   "cell_type": "code",
   "execution_count": null,
   "metadata": {},
   "outputs": [],
   "source": []
  }
 ],
 "metadata": {
  "kernelspec": {
   "display_name": "Python 3",
   "language": "python",
   "name": "python3"
  },
  "language_info": {
   "codemirror_mode": {
    "name": "ipython",
    "version": 3
   },
   "file_extension": ".py",
   "mimetype": "text/x-python",
   "name": "python",
   "nbconvert_exporter": "python",
   "pygments_lexer": "ipython3",
   "version": "3.7.3"
  }
 },
 "nbformat": 4,
 "nbformat_minor": 2
}
